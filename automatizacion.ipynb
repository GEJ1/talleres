{
  "nbformat": 4,
  "nbformat_minor": 0,
  "metadata": {
    "colab": {
      "name": "taller_de_automatizacion.ipynb",
      "provenance": [],
      "collapsed_sections": []
    },
    "kernelspec": {
      "name": "python3",
      "display_name": "Python 3"
    },
    "language_info": {
      "name": "python"
    }
  },
  "cells": [
    {
      "cell_type": "markdown",
      "metadata": {
        "id": "P8VF_g0mSuWc"
      },
      "source": [
        "# <img aligned=\"center\" src=\"https://ihum.ai/static/logos/ISOTIPO.png\" alt=\"Curso scraping\" width=\"25\"> Ciclo de talleres del Instituto Humai\n",
        "\n",
        "\n",
        "[Humai](https://ihum.ai/) es una organización independiente que busca desarrollar los últimos avances en Inteligencia Artificial y Ciencia de Datos en Argentina y América Latina. El objetivo es abrir el camino hacia la democratización de la tecnología por medio de una educación especializada y accesible. Buscamos colocar las nuevas tecnologías en función de un avance social por medio de la formación, investigación y divulgación colaborativa.\n",
        "\n",
        "\n",
        "\n"
      ]
    },
    {
      "cell_type": "markdown",
      "metadata": {
        "id": "aeFtp9NIYQgk"
      },
      "source": [
        "# 🤖 Taller de Automatización\n",
        "Por [Mathias Gatti](http://mathigatti.com/)\n",
        "\n",
        "En este taller veremos cómo desarrollar un pequeño bot encargado de navegar por internet buscando novedades de nuestro interés. Aprenderemos cómo hacer que busque y nos notifique al encontrar información sobre, entre otras cosas, eventos, puestos de trabajo prometedores o alquileres económicos.\n",
        "\n",
        "Este evento es parte del [curso de Automatización](https://ihum.ai/cursos/auto) brindado por el Instituto Humai"
      ]
    },
    {
      "cell_type": "markdown",
      "metadata": {
        "id": "6gHhC2J8aCgS"
      },
      "source": [
        "# 🎟️ ¿Cómo consigo entradas antes de que se agoten?\n",
        "\n",
        "A veces querés conseguir entradas para ir a un show que te gusta pero cuando vas a reservar tu lugar ya no quedan entradas.\n",
        "\n",
        "La solución puede ser entrar todos los días al sitio web para enterarte de las novedades, pero esto es proclive a fallos si no tenés tiempo o se te olvida.\n",
        "\n",
        "Veamos como automatizar esta tarea."
      ]
    },
    {
      "cell_type": "markdown",
      "metadata": {
        "id": "MGYo1F6jBCUR"
      },
      "source": [
        "## ✨ Paso 1: Conseguir los datos \n",
        "\n",
        "\n",
        "Para este ejemplo intentaremos descargar los detalles sobre los shows disponibles en el [Centro Cultural Kirchner](https://cck.gob.ar/agenda/)"
      ]
    },
    {
      "cell_type": "code",
      "metadata": {
        "id": "RUBDrLFcA_wN"
      },
      "source": [
        "from requests import get\n",
        "import bs4 as bs\n",
        "\n",
        "# Descargo el codigo HTML\n",
        "result = get(\"https://cck.gob.ar/agenda/\")\n",
        "\n",
        "# Hago que la computadora lo vea y lo interprete para luego poder navegarlo facilmente\n",
        "soup = bs.BeautifulSoup(result.content,'html.parser')\n",
        "\n",
        "\n",
        "# Extraigo los valores que me interesan\n",
        "values = soup.find_all(\"div\",{\"class\":\"mec-event-content\"})\n",
        "\n",
        "# Extraigo el texto de cada elemento\n",
        "shows = [value.text for value in values]\n",
        "\n",
        "# El comando set borra los titulos repetidos de la lista\n",
        "shows = set(shows)\n",
        "\n",
        "# Imprimo los resultados obtenidos\n",
        "for show in shows:\n",
        "  print(show)"
      ],
      "execution_count": null,
      "outputs": []
    },
    {
      "cell_type": "markdown",
      "metadata": {
        "id": "cKdU42pFBjGz"
      },
      "source": [
        "## ✨ Paso 2: Crear un robot notificador\n",
        "\n",
        "Por su facilidad de uso vamos a utilizar [Telegram](https://telegram.org/) para esto, es un servicio de mensajeria similar a Whatsapp pero con un sistema de creación de bots mas amigable"
      ]
    },
    {
      "cell_type": "markdown",
      "metadata": {
        "id": "nSgcjjY72RZG"
      },
      "source": [
        "#### 🛠️ Creación y configuración del bot\n",
        "\n",
        "Podés encontrar en internet varias guías como [esta](https://www.adslzone.net/como-se-hace/telegram/crear-bot/) para aprender a crear facilmente tu bot.\n",
        "\n",
        "Queremos que el bot nos envie mensajes, para hacer esto es necesario hablarle al bot (Ellos no pueden hablar si un humano no les habla primero). Luego, ejecutando el siguiente codigo visualizaremos todos los mensajes recibidos por el bot. Allí podremos encontrar el numero identificador (_ID_) de nuestro chat, lo cual será necesario para indicarle al bot a que chat enviar los mensajes."
      ]
    },
    {
      "cell_type": "code",
      "metadata": {
        "id": "sMJi1BhbklPM",
        "colab": {
          "base_uri": "https://localhost:8080/"
        },
        "outputId": "8c77b3c1-852e-412c-b801-6713fbd2a003"
      },
      "source": [
        "from requests import get\n",
        "\n",
        "bot_token = \"COMPLETAR\"\n",
        "url = f\"https://api.telegram.org/bot{bot_token}/getUpdates\"\n",
        "resultado = get(url)\n",
        "mensajes = resultado.json()\n",
        "mensajes"
      ],
      "execution_count": null,
      "outputs": [
        {
          "output_type": "execute_result",
          "data": {
            "text/plain": [
              "{'ok': True,\n",
              " 'result': [{'message': {'chat': {'first_name': 'Mathias',\n",
              "     'id': 267866912,\n",
              "     'last_name': 'Gatti',\n",
              "     'type': 'private',\n",
              "     'username': 'mathigatti'},\n",
              "    'date': 1632950873,\n",
              "    'entities': [{'length': 6, 'offset': 0, 'type': 'bot_command'}],\n",
              "    'from': {'first_name': 'Mathias',\n",
              "     'id': 267866912,\n",
              "     'is_bot': False,\n",
              "     'language_code': 'es',\n",
              "     'last_name': 'Gatti',\n",
              "     'username': 'mathigatti'},\n",
              "    'message_id': 3,\n",
              "    'text': '/start'},\n",
              "   'update_id': 546355193}]}"
            ]
          },
          "metadata": {},
          "execution_count": 10
        }
      ]
    },
    {
      "cell_type": "markdown",
      "metadata": {
        "id": "WYvL3fOR3vdc"
      },
      "source": [
        "#### 📨 Todo listo para enviar mensajes!"
      ]
    },
    {
      "cell_type": "code",
      "metadata": {
        "id": "2CA7fho8CY95",
        "colab": {
          "base_uri": "https://localhost:8080/"
        },
        "outputId": "fc7e3716-9943-4e03-ee7d-56b626d905f7"
      },
      "source": [
        "from requests import post\n",
        "\n",
        "def send_msg(msg, chat_id, bot_token):\n",
        "    resp = post(\n",
        "        f\"https://api.telegram.org/bot{bot_token}/sendMessage?\"\n",
        "        f\"chat_id={chat_id}&parse_mode=Markdown&text={msg}\"\n",
        "    )\n",
        "    return resp.json()\n",
        "\n",
        "chat_id = 1234567 # COMPLETAR\n",
        "send_msg(\"hola!\", chat_id, bot_token)"
      ],
      "execution_count": null,
      "outputs": [
        {
          "output_type": "execute_result",
          "data": {
            "text/plain": [
              "{'ok': True,\n",
              " 'result': {'chat': {'first_name': 'Mathias',\n",
              "   'id': 267866912,\n",
              "   'last_name': 'Gatti',\n",
              "   'type': 'private',\n",
              "   'username': 'mathigatti'},\n",
              "  'date': 1632950980,\n",
              "  'from': {'first_name': 'humaitest1',\n",
              "   'id': 1979424553,\n",
              "   'is_bot': True,\n",
              "   'username': 'humaitest1bot'},\n",
              "  'message_id': 5,\n",
              "  'text': 'todo bien, vos?'}}"
            ]
          },
          "metadata": {},
          "execution_count": 12
        }
      ]
    },
    {
      "cell_type": "code",
      "metadata": {
        "id": "Rf1TOhhX--1-"
      },
      "source": [
        "# Envio los shows encontrados\n",
        "for show in shows:\n",
        "  send_msg(show, chat_id, bot_token)"
      ],
      "execution_count": null,
      "outputs": []
    },
    {
      "cell_type": "markdown",
      "metadata": {
        "id": "2SKpNNvPCi7r"
      },
      "source": [
        "## ✨ Paso 3: Ponemos todo junto"
      ]
    },
    {
      "cell_type": "code",
      "metadata": {
        "id": "nV9bdnBojIRW"
      },
      "source": [
        "from time import sleep\n",
        "\n",
        "from requests import get, post\n",
        "import bs4 as bs\n",
        "\n",
        "def send_msg(msg, chat_id, bot_token):\n",
        "    resp = post(\n",
        "        f\"https://api.telegram.org/bot{bot_token}/sendMessage?\"\n",
        "        f\"chat_id={chat_id}&parse_mode=Markdown&text={msg}\"\n",
        "    )\n",
        "    return resp.json()\n",
        "\n",
        "bot_token = \"COMPLETAR\"\n",
        "chat_id = 1234567 # COMPLETAR\n",
        "\n",
        "while True: # Repetir esto por siempre:\n",
        "\n",
        "  # Descargo el codigo HTML\n",
        "  result = get(\"https://cck.gob.ar/agenda/\")\n",
        "\n",
        "  # Hago que la computadora lo vea y lo interprete para luego poder navegarlo facilmente\n",
        "  soup = bs.BeautifulSoup(result.content,'html.parser')\n",
        "\n",
        "  # Extraigo los valores que me interesan\n",
        "  values = soup.find_all(\"div\",{\"class\":\"mec-event-content\"})\n",
        "\n",
        "  # Extraigo el texto de cada elemento\n",
        "  shows = [value.text for value in values]\n",
        "\n",
        "  # El comando set borra los titulos repetidos de la lista\n",
        "  shows = set(shows)\n",
        "\n",
        "  # Envio los shows encontrados\n",
        "  for show in shows:\n",
        "    send_msg(show, chat_id, bot_token)\n",
        "\n",
        "  sleep(24*60*60) # Dormi 24 horas"
      ],
      "execution_count": null,
      "outputs": []
    },
    {
      "cell_type": "markdown",
      "metadata": {
        "id": "S00qlFayaHRH"
      },
      "source": [
        "# 🏘️ ¿Cómo consigo alquileres económicos?\n",
        "\n",
        "Intenemos replicar lo que hicimos con otro ejemplo. Ahora con alquileres de departamentos. En particular utilizando el sitio [mercadolibre.com.ar](https://mercadolibre.com.ar)\n"
      ]
    },
    {
      "cell_type": "code",
      "metadata": {
        "id": "RhYmXR3BaIo6"
      },
      "source": [
        "# COMPLETAR"
      ],
      "execution_count": null,
      "outputs": []
    },
    {
      "cell_type": "code",
      "metadata": {
        "colab": {
          "base_uri": "https://localhost:8080/"
        },
        "id": "1WigE4nYzn_b",
        "cellView": "form",
        "outputId": "84b11da0-87cb-42ce-f6c6-83b7cd8319bb"
      },
      "source": [
        "#@title SOLUCIÓN\n",
        "#@markdown Doble click para verla\n",
        "\n",
        "from requests import get\n",
        "import bs4 as bs\n",
        "\n",
        "result = get(\"https://inmuebles.mercadolibre.com.ar/departamentos/alquiler/sin-dormitorios/capital-federal/villa-urquiza/dueno-directo/departamento-alquiler_NoIndex_True#applied_filter_id%3DBEDROOMS%26applied_filter_name%3DDormitorios%26applied_filter_order%3D4%26applied_value_id%3D%5B0-0%5D%26applied_value_name%3DMonoambiente%26applied_value_order%3D1%26applied_value_results%3D10%26is_custom%3Dfalse\")\n",
        "soup = bs.BeautifulSoup(result.content,'lxml')\n",
        "\n",
        "apartments = [apartment.text for apartment in soup.find_all('div',{\"class\":\"ui-search-result__content-wrapper\"})]\n",
        "apartments"
      ],
      "execution_count": null,
      "outputs": [
        {
          "output_type": "execute_result",
          "data": {
            "text/plain": [
              "['31000 pesos$31.00035 mÂ² cubiertos1 amb.Departamento en alquilerHermoso Monoambiente En Excelente Zona, Super LuminosoDr.pedro Ignacio Rivera 4800, Villa Urquiza, Capital Federal',\n",
              " '30000 pesos$30.00030 mÂ² cubiertos1 amb.Departamento en alquilerS/piso 1 Ambiente Cfrte  Prox Subt Y TrenCullen  5200, Villa Urquiza, Capital Federal',\n",
              " '32000 pesos$32.00032 mÂ² cubiertos1 amb.Departamento en alquilerDepartamento 1 AmbienteEcheverria 4700, Villa Urquiza, Capital Federal',\n",
              " '32000 pesos$32.00038 mÂ² cubiertos1 amb.Departamento en alquilerAlquiler Ph 1 Ambiente Div. C/balcÃ³n S/expensas V. UrquizaMariano Acha 1500, Villa Urquiza, Capital Federal',\n",
              " '25000 pesos$25.00026 mÂ² cubiertos1 amb.Departamento en alquilerAmbiente,26 M2 Luminoso Sobre Av,cerca Del SubteAv De Los Incas 5030, Villa Urquiza, Capital Federal',\n",
              " '31000 pesos$31.00033 mÂ² cubiertos1 amb.Departamento en alquilerAlquiler Monoambiente Amplio Divisible Villa UrquizaCullen 5000, Villa Urquiza, Capital Federal',\n",
              " '28000 pesos$28.00031 mÂ² cubiertos1 amb.Departamento en alquilerZona Univ. San Mart Lumin Silenc Monoamb BalcÃ³n Al FrenteAvenida Monroe 5767, Villa Urquiza, Capital Federal',\n",
              " '28000 pesos$28.00032 mÂ² cubiertos1 amb.Departamento en alquilerVilla Urquiza Hermoso Y Moderno 1 Amplio Ambiente Con BalconMonroe 5800, Villa Urquiza, Capital Federal',\n",
              " '48000 dÃ³laresU$S48.00034 mÂ² cubiertos1 amb.Departamento en alquilerMonoambiente Con Terraza Y Balcon Villa UrquizaMiller 3154, Villa Urquiza, Capital Federal',\n",
              " '34000 pesos$34.00033 mÂ² cubiertos1 amb.Departamento en alquilerMonoambiente Al Frente Con Expensas Y Abl IncluidasTamborini  5500, Villa Urquiza, Capital Federal']"
            ]
          },
          "metadata": {},
          "execution_count": 11
        }
      ]
    },
    {
      "cell_type": "markdown",
      "metadata": {
        "id": "cyYOxdrJYFYn"
      },
      "source": [
        "# 💼 ¿Cómo consigo trabajo?\n",
        "\n",
        "Intenemos replicar lo que hicimos con otro ejemplo. Ahora con ofertas laborales. En particular utilizando el sitio [actopublico.bue.edu.ar](https://actopublico.bue.edu.ar/) donde se publican suplencias escolares de la Ciudad de Buenos Aires."
      ]
    },
    {
      "cell_type": "code",
      "metadata": {
        "id": "v80uiSskzjTv"
      },
      "source": [
        "# COMPLETAR"
      ],
      "execution_count": null,
      "outputs": []
    },
    {
      "cell_type": "code",
      "metadata": {
        "colab": {
          "base_uri": "https://localhost:8080/"
        },
        "id": "HLkDLyZRYF_S",
        "cellView": "form",
        "outputId": "4fb8423d-0411-46c5-a6d2-d89321a14a9c"
      },
      "source": [
        "#@title SOLUCIÓN\n",
        "#@markdown Doble click para verla\n",
        "\n",
        "from requests import get\n",
        "import bs4 as bs\n",
        "\n",
        "result = get(\"https://actopublico.bue.edu.ar/\")\n",
        "soup = bs.BeautifulSoup(result.content,'lxml')\n",
        "\n",
        "jobs = [job for job in soup.find_all('div',{\"class\":\"card-flex\"})]\n",
        "details_list = [job.text for job in jobs]\n",
        "details_list"
      ],
      "execution_count": null,
      "outputs": [
        {
          "output_type": "execute_result",
          "data": {
            "text/plain": [
              "['\\n\\nASISTENTE SOCIAL SER.PROF.\\n\\nSERVICIOS PROFESIONALES\\nInterinatos y Suplencias\\n\\n\\n\\n\\nVOLANTE EN DE 5\\n\\n\\n\\n\\n                                                    Estado: \\n                                                    \\n\\n                                                                                                                            Publicada\\n                                                                                                                    \\n\\n\\n\\n\\n\\n\\n                                                        Tipo de acto: \\n                                                        Interinatos y Suplencias\\n\\n\\n\\n\\n\\n                                                        Establecimiento del Cargo: \\n                                                        Eoe 5\\n\\n\\n\\n\\n\\n                                                        Carácter: \\n                                                        Suplente\\n\\n\\n\\n\\n\\n                                                        Turno: \\n                                                        Turno Simple\\n\\n\\n\\n\\n\\n                                                            Fecha de Acto Público: \\n                                                            viernes  1 de octubre de 2021 a las 10:00 hs.\\n\\n\\n\\n\\n\\n                                                        Observación: \\n                                                        \\n\\n\\n\\n\\n\\nVer detalle\\n\\n\\n\\n\\n',\n",
              " '\\n\\nASISTENTE SOCIAL SER.PROF.\\n\\nSERVICIOS PROFESIONALES\\nInterinatos y Suplencias\\n\\n\\n\\n\\nVOLANTE EN DE 10\\n\\n\\n\\n\\n                                                    Estado: \\n                                                    \\n\\n                                                                                                                            Publicada\\n                                                                                                                    \\n\\n\\n\\n\\n\\n\\n                                                        Tipo de acto: \\n                                                        Interinatos y Suplencias\\n\\n\\n\\n\\n\\n                                                        Establecimiento del Cargo: \\n                                                        Eoe 10\\n\\n\\n\\n\\n\\n                                                        Carácter: \\n                                                        Suplente\\n\\n\\n\\n\\n\\n                                                        Turno: \\n                                                        Turno Completo\\n\\n\\n\\n\\n\\n                                                            Fecha de Acto Público: \\n                                                            viernes  1 de octubre de 2021 a las 10:00 hs.\\n\\n\\n\\n\\n\\n                                                        Observación: \\n                                                        \\n\\n\\n\\n\\n\\nVer detalle\\n\\n\\n\\n\\n',\n",
              " '\\n\\nASISTENTE SOCIAL SER.PROF.\\n\\nSERVICIOS PROFESIONALES\\nInterinatos y Suplencias\\n\\n\\n\\n\\nVOLANTE EN DE 15\\n\\n\\n\\n\\n                                                    Estado: \\n                                                    \\n\\n                                                                                                                            Publicada\\n                                                                                                                    \\n\\n\\n\\n\\n\\n\\n                                                        Tipo de acto: \\n                                                        Interinatos y Suplencias\\n\\n\\n\\n\\n\\n                                                        Establecimiento del Cargo: \\n                                                        Eoe 15\\n\\n\\n\\n\\n\\n                                                        Carácter: \\n                                                        Suplente\\n\\n\\n\\n\\n\\n                                                        Turno: \\n                                                        Turno Completo\\n\\n\\n\\n\\n\\n                                                            Fecha de Acto Público: \\n                                                            viernes  1 de octubre de 2021 a las 10:00 hs.\\n\\n\\n\\n\\n\\n                                                        Observación: \\n                                                        \\n\\n\\n\\n\\n\\nVer detalle\\n\\n\\n\\n\\n',\n",
              " '\\n\\nPSICOPEDAGOGO SER.PROF\\n\\nSERVICIOS PROFESIONALES\\nInterinatos y Suplencias\\n\\n\\n\\n\\nVOLANTE EN DE 6\\n\\n\\n\\n\\n                                                    Estado: \\n                                                    \\n\\n                                                                                                                            Publicada\\n                                                                                                                    \\n\\n\\n\\n\\n\\n\\n                                                        Tipo de acto: \\n                                                        Interinatos y Suplencias\\n\\n\\n\\n\\n\\n                                                        Establecimiento del Cargo: \\n                                                        Eoe 6\\n\\n\\n\\n\\n\\n                                                        Carácter: \\n                                                        Suplente\\n\\n\\n\\n\\n\\n                                                        Turno: \\n                                                        Turno Simple\\n\\n\\n\\n\\n\\n                                                            Fecha de Acto Público: \\n                                                            viernes  1 de octubre de 2021 a las 11:00 hs.\\n\\n\\n\\n\\n\\n                                                        Observación: \\n                                                        \\n\\n\\n\\n\\n\\nVer detalle\\n\\n\\n\\n\\n',\n",
              " '\\n\\nSECRETARIO (N.MEDIO)\\n\\nMEDIA\\nInterinatos y Suplencias\\n\\n\\n\\n\\nAV. BOYACÁ 2152 - Villa Gral. Mitre\\n\\n\\n\\n\\n                                                    Estado: \\n                                                    \\n\\n                                                                                                                            Publicada\\n                                                                                                                    \\n\\n\\n\\n\\n\\n\\n                                                        Tipo de acto: \\n                                                        Interinatos y Suplencias\\n\\n\\n\\n\\n\\n                                                        Establecimiento del Cargo: \\n                                                        Eem  2 - d.e. 14 argentinos juniors\\n\\n\\n\\n\\n\\n                                                        Dirección del Establecimiento del Cargo: \\n                                                        Av. boyacá 2152 - villa gral. mitre\\n\\n\\n\\n\\n\\n                                                        Carácter: \\n                                                        Suplente\\n\\n\\n\\n\\n\\n                                                        Turno: \\n                                                        Turno Mañana\\n\\n\\n\\n\\n\\n                                                        Horas cátedra:\\n                                                        1\\n\\n\\n\\n\\n\\n                                                            Fecha de Acto Público: \\n                                                            miércoles 29 de septiembre de 2021 a las 11:30 hs.\\n\\n\\n\\n\\n\\n                                                        Observación: \\n                                                        Solo para prosecretarios titulares. toma de posesion comunicarla a: dem_eem2_de14@bue.edu.ar\\n\\n\\n\\n\\n\\nVer detalle\\n\\n\\n\\n\\n',\n",
              " '\\n\\nPSICOLOGO\\n\\nMEDIA\\nInterinatos y Suplencias\\n\\n\\n\\n\\nCONESA 1855 - Belgrano\\n\\n\\n\\n\\n                                                    Estado: \\n                                                    \\n\\n                                                                                                                            Publicada\\n                                                                                                                    \\n\\n\\n\\n\\n\\n\\n                                                        Tipo de acto: \\n                                                        Interinatos y Suplencias\\n\\n\\n\\n\\n\\n                                                        Establecimiento del Cargo: \\n                                                        Liceo  9 - santiago derqui de 10º\\n\\n\\n\\n\\n\\n                                                        Dirección del Establecimiento del Cargo: \\n                                                        Conesa 1855 - belgrano\\n\\n\\n\\n\\n\\n                                                        Carácter: \\n                                                        Interino\\n\\n\\n\\n\\n\\n                                                        Turno: \\n                                                        Turno Mañana\\n\\n\\n\\n\\n\\n                                                        Horas cátedra:\\n                                                        1\\n\\n\\n\\n\\n\\n                                                            Fecha de Acto Público: \\n                                                            miércoles 29 de septiembre de 2021 a las 11:30 hs.\\n\\n\\n\\n\\n\\n                                                        Observación: \\n                                                        .\\n\\n\\n\\n\\n\\nVer detalle\\n\\n\\n\\n\\n',\n",
              " '\\n\\nAsistente social ser.prof.\\n\\nSERVICIOS PROFESIONALES\\nTurno Interinatos y Suplencias\\n\\n\\n\\n\\n\\n\\n                                                        Estado: \\n                                                        \\n\\n                                                                                                                                    Publicada\\n                                                                                                                            \\n\\n\\n\\n\\n\\n\\n                                                            Tipo de acto: \\n                                                            Interinatos y Suplencias\\n\\n\\n\\n\\n\\n                                                            Area:\\n                                                            SERVICIOS PROFESIONALES\\n\\n\\n\\n\\n\\n                                                            Nombre del Cargo: \\n                                                            \\n                                                                ASISTENTE SOCIAL SER.PROF.\\n                                                            \\n\\n\\n\\n\\n\\n                                                        Fecha de Acto Público:\\n                                                        viernes  1 de octubre de 2021 a las 10:00 hs.\\n\\n\\n\\n\\n\\n\\nEste cargo está disponible para los siguientes establecimientos:\\n\\n\\n\\n\\n\\n                    Establecimiento del Cargo: \\n                    Eoe 5\\n\\n\\n\\n\\n\\n                        Caracter: \\n                        \\n                            SUPLENTE\\n                        \\n\\n\\n\\n\\n\\n                        Turno: \\n                        \\n                            Simple\\n                        \\n\\n\\n\\n\\n\\n                    Año:\\n                    2021\\n\\n\\n\\n\\n\\n                    Descripción Horario: \\n                    Lunes a viernes de 13 a 16.15hs\\n\\n\\n\\n\\n\\n\\n\\n                        Docente: \\n                        .\\n\\n\\n\\n\\n\\n                        Causa de la solicitud: \\n                        Lic. Art. 71\\n\\n\\n\\n\\n\\n                        Mail de la escuela: \\n                        rrhh.goea@bue.edu.ar\\n\\n\\n\\n\\n\\n\\n\\n                    Establecimiento del Cargo: \\n                    Eoe 10\\n\\n\\n\\n\\n\\n                        Caracter: \\n                        \\n                            SUPLENTE\\n                        \\n\\n\\n\\n\\n\\n                        Turno: \\n                        \\n                            Completo\\n                        \\n\\n\\n\\n\\n\\n                    Año:\\n                    2021\\n\\n\\n\\n\\n\\n                    Descripción Horario: \\n                    Lunes a viernes de 8 a 14hs\\n\\n\\n\\n\\n\\n\\n\\n                        Docente: \\n                        .\\n\\n\\n\\n\\n\\n                        Causa de la solicitud: \\n                        Lic. Art. 70 J\\n\\n\\n\\n\\n\\n                        Mail de la escuela: \\n                        rrhh.goea@bue.edu.ar\\n\\n\\n\\n\\n\\n\\n\\n                    Establecimiento del Cargo: \\n                    Eoe 15\\n\\n\\n\\n\\n\\n                        Caracter: \\n                        \\n                            SUPLENTE\\n                        \\n\\n\\n\\n\\n\\n                        Turno: \\n                        \\n                            Completo\\n                        \\n\\n\\n\\n\\n\\n                    Año:\\n                    2021\\n\\n\\n\\n\\n\\n                    Descripción Horario: \\n                    Lunes a viernes de 9 a 15hs\\n\\n\\n\\n\\n\\n\\n\\n                        Docente: \\n                        .\\n\\n\\n\\n\\n\\n                        Causa de la solicitud: \\n                        Lic. Art. 70 CH\\n\\n\\n\\n\\n\\n                        Mail de la escuela: \\n                        rrhh.goea@bue.edu.ar\\n\\n\\n\\n \\n\\n\\n\\nCerrar\\n\\n\\n\\n\\n',\n",
              " '\\n\\nAsistente social ser.prof.\\n\\nSERVICIOS PROFESIONALES\\nTurno Interinatos y Suplencias\\n\\n\\n\\n\\n\\n\\n                                                        Estado: \\n                                                        \\n\\n                                                                                                                                    Publicada\\n                                                                                                                            \\n\\n\\n\\n\\n\\n\\n                                                            Tipo de acto: \\n                                                            Interinatos y Suplencias\\n\\n\\n\\n\\n\\n                                                            Area:\\n                                                            SERVICIOS PROFESIONALES\\n\\n\\n\\n\\n\\n                                                            Nombre del Cargo: \\n                                                            \\n                                                                ASISTENTE SOCIAL SER.PROF.\\n                                                            \\n\\n\\n\\n\\n\\n                                                        Fecha de Acto Público:\\n                                                        viernes  1 de octubre de 2021 a las 10:00 hs.\\n\\n\\n\\n\\n\\n\\nEste cargo está disponible para los siguientes establecimientos:\\n\\n\\n\\n\\n\\n                    Establecimiento del Cargo: \\n                    Eoe 5\\n\\n\\n\\n\\n\\n                        Caracter: \\n                        \\n                            SUPLENTE\\n                        \\n\\n\\n\\n\\n\\n                        Turno: \\n                        \\n                            Simple\\n                        \\n\\n\\n\\n\\n\\n                    Año:\\n                    2021\\n\\n\\n\\n\\n\\n                    Descripción Horario: \\n                    Lunes a viernes de 13 a 16.15hs\\n\\n\\n\\n\\n\\n\\n\\n                        Docente: \\n                        .\\n\\n\\n\\n\\n\\n                        Causa de la solicitud: \\n                        Lic. Art. 71\\n\\n\\n\\n\\n\\n                        Mail de la escuela: \\n                        rrhh.goea@bue.edu.ar\\n\\n\\n\\n\\n\\n\\n\\n                    Establecimiento del Cargo: \\n                    Eoe 10\\n\\n\\n\\n\\n\\n                        Caracter: \\n                        \\n                            SUPLENTE\\n                        \\n\\n\\n\\n\\n\\n                        Turno: \\n                        \\n                            Completo\\n                        \\n\\n\\n\\n\\n\\n                    Año:\\n                    2021\\n\\n\\n\\n\\n\\n                    Descripción Horario: \\n                    Lunes a viernes de 8 a 14hs\\n\\n\\n\\n\\n\\n\\n\\n                        Docente: \\n                        .\\n\\n\\n\\n\\n\\n                        Causa de la solicitud: \\n                        Lic. Art. 70 J\\n\\n\\n\\n\\n\\n                        Mail de la escuela: \\n                        rrhh.goea@bue.edu.ar\\n\\n\\n\\n\\n\\n\\n\\n                    Establecimiento del Cargo: \\n                    Eoe 15\\n\\n\\n\\n\\n\\n                        Caracter: \\n                        \\n                            SUPLENTE\\n                        \\n\\n\\n\\n\\n\\n                        Turno: \\n                        \\n                            Completo\\n                        \\n\\n\\n\\n\\n\\n                    Año:\\n                    2021\\n\\n\\n\\n\\n\\n                    Descripción Horario: \\n                    Lunes a viernes de 9 a 15hs\\n\\n\\n\\n\\n\\n\\n\\n                        Docente: \\n                        .\\n\\n\\n\\n\\n\\n                        Causa de la solicitud: \\n                        Lic. Art. 70 CH\\n\\n\\n\\n\\n\\n                        Mail de la escuela: \\n                        rrhh.goea@bue.edu.ar\\n\\n\\n\\n \\n\\n\\n\\nCerrar\\n\\n\\n\\n\\n',\n",
              " '\\n\\nAsistente social ser.prof.\\n\\nSERVICIOS PROFESIONALES\\nTurno Interinatos y Suplencias\\n\\n\\n\\n\\n\\n\\n                                                        Estado: \\n                                                        \\n\\n                                                                                                                                    Publicada\\n                                                                                                                            \\n\\n\\n\\n\\n\\n\\n                                                            Tipo de acto: \\n                                                            Interinatos y Suplencias\\n\\n\\n\\n\\n\\n                                                            Area:\\n                                                            SERVICIOS PROFESIONALES\\n\\n\\n\\n\\n\\n                                                            Nombre del Cargo: \\n                                                            \\n                                                                ASISTENTE SOCIAL SER.PROF.\\n                                                            \\n\\n\\n\\n\\n\\n                                                        Fecha de Acto Público:\\n                                                        viernes  1 de octubre de 2021 a las 10:00 hs.\\n\\n\\n\\n\\n\\n\\nEste cargo está disponible para los siguientes establecimientos:\\n\\n\\n\\n\\n\\n                    Establecimiento del Cargo: \\n                    Eoe 5\\n\\n\\n\\n\\n\\n                        Caracter: \\n                        \\n                            SUPLENTE\\n                        \\n\\n\\n\\n\\n\\n                        Turno: \\n                        \\n                            Simple\\n                        \\n\\n\\n\\n\\n\\n                    Año:\\n                    2021\\n\\n\\n\\n\\n\\n                    Descripción Horario: \\n                    Lunes a viernes de 13 a 16.15hs\\n\\n\\n\\n\\n\\n\\n\\n                        Docente: \\n                        .\\n\\n\\n\\n\\n\\n                        Causa de la solicitud: \\n                        Lic. Art. 71\\n\\n\\n\\n\\n\\n                        Mail de la escuela: \\n                        rrhh.goea@bue.edu.ar\\n\\n\\n\\n\\n\\n\\n\\n                    Establecimiento del Cargo: \\n                    Eoe 10\\n\\n\\n\\n\\n\\n                        Caracter: \\n                        \\n                            SUPLENTE\\n                        \\n\\n\\n\\n\\n\\n                        Turno: \\n                        \\n                            Completo\\n                        \\n\\n\\n\\n\\n\\n                    Año:\\n                    2021\\n\\n\\n\\n\\n\\n                    Descripción Horario: \\n                    Lunes a viernes de 8 a 14hs\\n\\n\\n\\n\\n\\n\\n\\n                        Docente: \\n                        .\\n\\n\\n\\n\\n\\n                        Causa de la solicitud: \\n                        Lic. Art. 70 J\\n\\n\\n\\n\\n\\n                        Mail de la escuela: \\n                        rrhh.goea@bue.edu.ar\\n\\n\\n\\n\\n\\n\\n\\n                    Establecimiento del Cargo: \\n                    Eoe 15\\n\\n\\n\\n\\n\\n                        Caracter: \\n                        \\n                            SUPLENTE\\n                        \\n\\n\\n\\n\\n\\n                        Turno: \\n                        \\n                            Completo\\n                        \\n\\n\\n\\n\\n\\n                    Año:\\n                    2021\\n\\n\\n\\n\\n\\n                    Descripción Horario: \\n                    Lunes a viernes de 9 a 15hs\\n\\n\\n\\n\\n\\n\\n\\n                        Docente: \\n                        .\\n\\n\\n\\n\\n\\n                        Causa de la solicitud: \\n                        Lic. Art. 70 CH\\n\\n\\n\\n\\n\\n                        Mail de la escuela: \\n                        rrhh.goea@bue.edu.ar\\n\\n\\n\\n \\n\\n\\n\\nCerrar\\n\\n\\n\\n\\n',\n",
              " '\\n\\nPsicopedagogo ser.prof\\n\\nSERVICIOS PROFESIONALES\\nTurno Simple\\nSUPLENTE\\n\\n\\n\\n\\n\\nVOLANTE EN DE 6\\n\\n\\n\\n\\n                                                        Estado: \\n                                                        \\n\\n                                                                                                                                    Publicada\\n                                                                                                                            \\n\\n\\n\\n\\n\\n\\n                                                            Tipo de acto: \\n                                                            Interinatos y Suplencias\\n\\n\\n\\n\\n\\n                                                            Area:\\n                                                            SERVICIOS PROFESIONALES\\n\\n\\n\\n\\n\\n                                                            Nombre del Cargo: \\n                                                            \\n                                                                PSICOPEDAGOGO SER.PROF\\n                                                            \\n\\n\\n\\n\\n\\n                                                                Distrito:\\n                                                                Distrito 6\\n\\n\\n\\n\\n\\n                                                            Establecimiento del Cargo: \\n                                                            Eoe 6\\n\\n\\n\\n\\n\\n                                                            Turno: \\n                                                            \\n                                                                Simple\\n                                                            \\n\\n\\n\\n\\n\\n\\n\\n                                                            Caracter: \\n                                                            \\n                                                                SUPLENTE\\n                                                            \\n\\n\\n\\n\\n\\n                                                            Año:\\n                                                            2021\\n\\n\\n\\n\\n\\n                                                            Observación: \\n                                                            \\n\\n\\n\\n\\n\\n                                                        CUEANEXO del Establecimiento del Cargo:\\n                                                        9030060\\n\\n\\n\\n\\n\\n                                                        Descripción Horario: \\n                                                        \\n                                                            Lunes a viernes de 9 a 12.15hs\\n                                                        \\n\\n\\n\\n\\n\\n\\n\\n\\nCerrar\\n\\n\\n\\n\\n',\n",
              " '\\n\\nSecretario (n.medio)\\n\\nMEDIA\\nTurno MAÑANA\\nSUPLENTE\\n\\n\\n\\n\\n\\nAV. BOYACÁ 2152 - Villa Gral. Mitre\\n\\n\\n\\n\\n                                                        Estado: \\n                                                        \\n\\n                                                                                                                                    Publicada\\n                                                                                                                            \\n\\n\\n\\n\\n\\n\\n                                                            Tipo de acto: \\n                                                            Interinatos y Suplencias\\n\\n\\n\\n\\n\\n                                                            Area:\\n                                                            MEDIA\\n\\n\\n\\n\\n\\n                                                            Nombre del Cargo: \\n                                                            \\n                                                                SECRETARIO (N.MEDIO)\\n                                                            \\n\\n\\n\\n\\n\\n                                                                Distrito:\\n                                                                Distrito 14\\n\\n\\n\\n\\n\\n                                                            Establecimiento del Cargo: \\n                                                            Eem  2 - d.e. 14 argentinos juniors\\n\\n\\n\\n\\n\\n                                                        Dirección del Establecimiento del Cargo:\\n                                                        AV. BOYACÁ 2152 - Villa Gral. Mitre\\n\\n\\n\\n\\n\\n                                                            Turno: \\n                                                            \\n                                                                MAÑANA\\n                                                            \\n\\n\\n\\n\\n\\n\\n\\n                                                            Caracter: \\n                                                            \\n                                                                SUPLENTE\\n                                                            \\n\\n\\n\\n\\n\\n                                                            Año:\\n                                                            2021\\n\\n\\n\\n\\n\\n                                                            Horas cátedra:\\n                                                            1\\n\\n\\n\\n\\n\\n                                                            Observación: \\n                                                            Solo para prosecretarios titulares. toma de posesion comunicarla a: dem_eem2_de14@bue.edu.ar\\n\\n\\n\\n\\n\\n                                                        CUEANEXO del Establecimiento del Cargo:\\n                                                        20243500\\n\\n\\n\\n\\n\\n                                                        Descripción Horario: \\n                                                        \\n                                                            Lunes: 07:45 a 12:45 / martes: 07:45 a 12:45 / miércoles: 07:45 a 12:45 / jueves: 07:45 a 12:45 / viernes: 07:45 a 12:45\\n                                                        \\n\\n\\n\\n\\n\\n\\n\\n\\nCerrar\\n\\n\\n\\n\\n',\n",
              " '\\n\\nPsicologo\\n\\nMEDIA\\nTurno Interinatos y Suplencias\\n\\n\\n\\n\\n\\n\\n                                                        Estado: \\n                                                        \\n\\n                                                                                                                                    Publicada\\n                                                                                                                            \\n\\n\\n\\n\\n\\n\\n                                                            Tipo de acto: \\n                                                            Interinatos y Suplencias\\n\\n\\n\\n\\n\\n                                                            Area:\\n                                                            MEDIA\\n\\n\\n\\n\\n\\n                                                            Nombre del Cargo: \\n                                                            \\n                                                                PSICOLOGO\\n                                                            \\n\\n\\n\\n\\n\\n                                                        Fecha de Acto Público:\\n                                                        miércoles 29 de septiembre de 2021 a las 11:30 hs.\\n\\n\\n\\n\\nEste cargo está disponible para los siguientes establecimientos:\\n\\n\\n\\n\\n                                                                Establecimiento del Cargo:\\n                                                                \\n                                                                    Liceo  9 - santiago derqui de 10º\\n                                                                \\n\\n\\n\\n\\n\\n                                                                Dirección del Establecimiento del Cargo:\\n                                                                \\n                                                                    CONESA 1855 - Belgrano\\n                                                                \\n\\n\\n\\n\\n\\n                                                                CUEANEXO del Establecimiento del Cargo:\\n                                                                \\n                                                                    20040100\\n                                                                \\n\\n\\n\\n\\n\\n                                                                Comuna:\\n                                                                \\n                                                                    Comuna 13\\n                                                                \\n\\n\\n\\n\\n\\n\\n\\n                                                                Establecimiento del Cargo:\\n                                                                \\n                                                                    Liceo 12 - fray m. esquiú de 8\\n                                                                \\n\\n\\n\\n\\n\\n                                                                Dirección del Establecimiento del Cargo:\\n                                                                \\n                                                                    JOSÉ MARÍA MORENO 345 - Caballito\\n                                                                \\n\\n\\n\\n\\n\\n                                                                CUEANEXO del Establecimiento del Cargo:\\n                                                                \\n                                                                    20088300\\n                                                                \\n\\n\\n\\n\\n\\n                                                                Comuna:\\n                                                                \\n                                                                    Comuna 6\\n                                                                \\n\\n\\n\\n\\n\\n\\n\\n\\n\\nCerrar\\n\\n\\n\\n\\n']"
            ]
          },
          "metadata": {},
          "execution_count": 12
        }
      ]
    },
    {
      "cell_type": "markdown",
      "metadata": {
        "id": "tlLgOw4_KAUm"
      },
      "source": [
        "Para lxs curiosxs, [acá](https://colab.research.google.com/drive/1ceD35yErzNHdtGqsq6aQI7NEZjhbN1dl#scrollTo=pZizqB1IQ6G_) hay un scraper del sitio que incorpora algunas funcionalidades extras"
      ]
    },
    {
      "cell_type": "markdown",
      "metadata": {
        "id": "1YPNQcQ3ZuHs"
      },
      "source": [
        "# Mas ideas!\n",
        "- https://subastas.bancociudad.com.ar/\n",
        "- https://www.aysa.com.ar/Que-Hacemos/estaciones-meteorologicas/datos\n",
        "\n",
        "\n",
        "Si te quedaste con ganas de aprender más anotate en el [curso de automatización](https://ihum.ai/cursos/auto)\n",
        "\n",
        "\n",
        "También podes:\n",
        "- Realizar consultas en el [slack](https://join.slack.com/t/ihumai/shared_invite/zt-fr1gdg51-VOrVPEJHEbCyi2VkSX727Q) abierto y gratuito de la comunidad\n",
        "- Ver nuestros demas [talleres](https://github.com/institutohumai/talleres)"
      ]
    }
  ]
}